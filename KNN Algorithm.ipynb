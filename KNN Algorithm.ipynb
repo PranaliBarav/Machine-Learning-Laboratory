{
 "cells": [
  {
   "cell_type": "code",
   "execution_count": 4,
   "id": "9cad4965-875d-49c6-8f68-7190388ae0a5",
   "metadata": {},
   "outputs": [],
   "source": [
    "from sklearn.datasets import load_wine\n",
    "from sklearn.model_selection import train_test_split\n",
    "from sklearn.neighbors import KNeighborsClassifier\n",
    "from sklearn.metrics import accuracy_score\n",
    "import matplotlib.pyplot as plt"
   ]
  },
  {
   "cell_type": "code",
   "execution_count": 5,
   "id": "735b60e4-68d8-4297-b689-701e17ab5a35",
   "metadata": {},
   "outputs": [],
   "source": [
    "wine = load_wine()\n",
    "X, y = wine.data, wine.target\n",
    "X_train, X_test, y_train, y_test = train_test_split(X, y, test_size=0.3, random_state=42)\n",
    "k_range = range(1, 21)\n",
    "accuracies = []\n",
    "for k in k_range:\n",
    " knn = KNeighborsClassifier(n_neighbors=k)\n",
    " knn.fit(X_train, y_train)\n",
    " y_pred = knn.predict(X_test)\n",
    " acc = accuracy_score(y_test, y_pred)\n",
    " accuracies.append(acc)"
   ]
  },
  {
   "cell_type": "code",
   "execution_count": null,
   "id": "f61a860c-0590-4333-a05a-53ecd4b99c3a",
   "metadata": {},
   "outputs": [],
   "source": [
    "plt.plot(k_range, accuracies, marker='o', color='green')\n",
    "plt.title(\"K-NN Classification Accuracy vs K (Wine Dataset)\")\n",
    "plt.xlabel(\"Number of Neighbors (K)\")\n",
    "plt.ylabel(\"Accuracy\")\n",
    "plt.grid()\n",
    "plt.show()"
   ]
  },
  {
   "cell_type": "code",
   "execution_count": 7,
   "id": "2e6511fe-35db-437a-bce3-4f44053ef186",
   "metadata": {},
   "outputs": [],
   "source": [
    "from sklearn.datasets import load_wine\n",
    "from sklearn.model_selection import train_test_split\n",
    "from sklearn.neighbors import KNeighborsClassifier\n",
    "from sklearn.metrics import accuracy_score\n",
    "import matplotlib.pyplot as plt\n",
    "wine = load_wine()\n",
    "X, y = wine.data, wine.target\n",
    "X_train, X_test, y_train, y_test = train_test_split(X, y, test_size=0.3, random_state=42)\n",
    "k_range = range(1, 21)\n",
    "accuracies = []\n",
    "for k in k_range:\n",
    " knn = KNeighborsClassifier(n_neighbors=k)\n",
    " knn.fit(X_train, y_train)\n",
    " y_pred = knn.predict(X_test)\n",
    " acc = accuracy_score(y_test, y_pred)\n",
    " accuracies.append(acc)"
   ]
  },
  {
   "cell_type": "code",
   "execution_count": null,
   "id": "e58d6516-3c85-4b8e-a821-19ab88237c8c",
   "metadata": {},
   "outputs": [],
   "source": [
    "plt.plot(k_range, accuracies, marker='o', color='green')\n",
    "plt.title(\"K-NN Classification Accuracy vs K (Wine Dataset)\")\n",
    "plt.xlabel(\"Number of Neighbors (K)\")\n",
    "plt.ylabel(\"Accuracy\")\n",
    "plt.grid()\n",
    "plt.show()\n"
   ]
  },
  {
   "cell_type": "code",
   "execution_count": null,
   "id": "fbece459-e690-42f4-aff4-5834c1f0eb7f",
   "metadata": {},
   "outputs": [],
   "source": []
  }
 ],
 "metadata": {
  "kernelspec": {
   "display_name": "Python 3 (ipykernel)",
   "language": "python",
   "name": "python3"
  },
  "language_info": {
   "codemirror_mode": {
    "name": "ipython",
    "version": 3
   },
   "file_extension": ".py",
   "mimetype": "text/x-python",
   "name": "python",
   "nbconvert_exporter": "python",
   "pygments_lexer": "ipython3",
   "version": "3.8.10"
  }
 },
 "nbformat": 4,
 "nbformat_minor": 5
}
